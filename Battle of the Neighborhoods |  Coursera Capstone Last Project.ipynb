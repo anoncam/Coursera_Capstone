{
 "cells": [
  {
   "cell_type": "markdown",
   "metadata": {},
   "source": [
    "# Capstone Project - The Battle of Neighborhoods\n",
    "\n",
    "## Introduction\n",
    "\n",
    "**Business problem and project use case**\n",
    "\n",
    "\"Would you suggest, based on imperical data, where to open a cinema in Los Angeles, or whether or not it is even a profitable endeavor?\n",
    "\n",
    "The stakeholder wants to open a new cinema as company's new business.\n",
    "\n",
    "**Factors to analyze**\n",
    "- Transportation\n",
    "- Accesibility / Amenities in near proximity\n",
    "- Food (places to eat nearby)\n",
    "\n",
    "\n",
    "\n",
    "He wants me concentrated on selection of cinema location according to its nearby environment. Cinema facility and rental price is not my concern. He lists out his top 10 favorite cinemas in Hong Kong with rating.\n",
    "\n",
    "I work with my teammates and select 5 possible locations to build the cinema. Which location should be suggested to the stakeholder?\n",
    "\n",
    "Data\n",
    "Data where you describe the data that will be used to solve the problem and the source of the data.\n",
    "\n",
    "According to the question, following data are required.\n",
    "\n",
    "1. Geographic coordinate of Hong Kong cinemas\n",
    "I need to compare 5 possible locations with current cinemas in Hong Kong. Therefore, I need to find a list of Hong Kong cinema and cinemas' geographic coordinates. Luckily, I can find the list and coordinates from the website https://hkmovie6.com/cinema ."
   ]
  },
  {
   "cell_type": "code",
   "execution_count": 179,
   "metadata": {},
   "outputs": [
    {
     "name": "stdout",
     "output_type": "stream",
     "text": [
      "/bin/sh: conda: command not found\n",
      "/bin/sh: conda: command not found\n",
      "Libraries imported.\n"
     ]
    }
   ],
   "source": [
    "import numpy as np # library to handle data in a vectorized manner\n",
    "import time\n",
    "import pandas as pd # library for data analsysis\n",
    "pd.set_option('display.max_columns', None)\n",
    "pd.set_option('display.max_rows', None)\n",
    "\n",
    "import json # library to handle JSON files\n",
    "import requests # library to handle requests\n",
    "from pandas.io.json import json_normalize # tranform JSON file into a pandas dataframe\n",
    "!conda install -c conda-forge geopy --yes # uncomment this line if you haven't completed the Foursquare API lab\n",
    "from geopy.geocoders import Nominatim # convert an address into latitude and longitude values\n",
    "\n",
    "!conda install -c conda-forge folium=0.5.0 --yes # uncomment this line if you haven't completed the Foursquare API lab\n",
    "import folium # map rendering library\n",
    "import folium # map rendering library\n",
    "from folium import plugins\n",
    "import matplotlib.cm as cm\n",
    "import matplotlib.colors as colors\n",
    "\n",
    "import seaborn as sns\n",
    "from sklearn.cluster import KMeans\n",
    "\n",
    "\n",
    "\n",
    "print('Libraries imported.')"
   ]
  },
  {
   "cell_type": "code",
   "execution_count": 180,
   "metadata": {},
   "outputs": [
    {
     "name": "stdout",
     "output_type": "stream",
     "text": [
      "--2019-03-24 17:17:41--  https://hkmovie6.com/api/cinemas/lists\n",
      "Resolving hkmovie6.com (hkmovie6.com)... 104.31.66.1, 104.31.67.1\n",
      "Connecting to hkmovie6.com (hkmovie6.com)|104.31.66.1|:443... connected.\n",
      "HTTP request sent, awaiting response... 200 OK\n",
      "Length: unspecified [application/json]\n",
      "Saving to: ‘hk_cinema_list.json’\n",
      "\n",
      "hk_cinema_list.json     [ <=>                ]  52.10K  --.-KB/s    in 0.02s   \n",
      "\n",
      "2019-03-24 17:17:42 (2.54 MB/s) - ‘hk_cinema_list.json’ saved [53352]\n",
      "\n"
     ]
    }
   ],
   "source": [
    "# Import necessary library\n",
    "import json\n",
    "import pandas as pd\n",
    "\n",
    "# Download the cinema list\n",
    "!wget -O hk_cinema_list.json https://hkmovie6.com/api/cinemas/lists\n",
    "\n",
    "# Convert the JSON data into DataFrmae\n",
    "cinemas_json = None\n",
    "with open('hk_cinema_list.json', 'r', encoding='utf-8') as f:\n",
    "    cinemas_json = json.load(f)\n",
    "    \n",
    "cinemas = []\n",
    "for data in cinemas_json['data']:    \n",
    "    cinemas.append({\n",
    "        'Name': data['name'],\n",
    "        'ChiName': data['chiName'],\n",
    "        'Address': data['address'],\n",
    "        'Latitude': data['lat'],\n",
    "        'Longitude': data['lon']\n",
    "    })\n",
    "df_cinemas = pd.DataFrame(cinemas, columns=['Name','ChiName','Address','Latitude','Longitude'])\n",
    "\n"
   ]
  },
  {
   "cell_type": "code",
   "execution_count": 181,
   "metadata": {},
   "outputs": [
    {
     "name": "stdout",
     "output_type": "stream",
     "text": [
      "There are 70 cinemas in Hong Kong\n"
     ]
    }
   ],
   "source": [
    "print('There are {} cinemas in Hong Kong'.format(len(df_cinemas)))"
   ]
  },
  {
   "cell_type": "code",
   "execution_count": 182,
   "metadata": {},
   "outputs": [
    {
     "data": {
      "text/html": [
       "<div>\n",
       "<style scoped>\n",
       "    .dataframe tbody tr th:only-of-type {\n",
       "        vertical-align: middle;\n",
       "    }\n",
       "\n",
       "    .dataframe tbody tr th {\n",
       "        vertical-align: top;\n",
       "    }\n",
       "\n",
       "    .dataframe thead th {\n",
       "        text-align: right;\n",
       "    }\n",
       "</style>\n",
       "<table border=\"1\" class=\"dataframe\">\n",
       "  <thead>\n",
       "    <tr style=\"text-align: right;\">\n",
       "      <th></th>\n",
       "      <th>Name</th>\n",
       "      <th>ChiName</th>\n",
       "      <th>Address</th>\n",
       "      <th>Latitude</th>\n",
       "      <th>Longitude</th>\n",
       "    </tr>\n",
       "  </thead>\n",
       "  <tbody>\n",
       "    <tr>\n",
       "      <th>0</th>\n",
       "      <td>Emperor Cinemas - Entertainment Building</td>\n",
       "      <td>英皇戲院 - 娛樂行</td>\n",
       "      <td>3/F, Emperor Cinemas Entertainment Building, 3...</td>\n",
       "      <td>22.281453</td>\n",
       "      <td>114.154230</td>\n",
       "    </tr>\n",
       "    <tr>\n",
       "      <th>1</th>\n",
       "      <td>The Coronet @ Emperor Cinemas - Entertainment ...</td>\n",
       "      <td>The Coronet @ 英皇戲院 - 娛樂行</td>\n",
       "      <td>3/F, Emperor Cinemas Entertainment Building, 3...</td>\n",
       "      <td>22.281453</td>\n",
       "      <td>114.154230</td>\n",
       "    </tr>\n",
       "    <tr>\n",
       "      <th>2</th>\n",
       "      <td>Emperor Cinemas - Tuen Mun</td>\n",
       "      <td>英皇戲院 - 屯門新都商場</td>\n",
       "      <td>3/F, New Town Commercial Arcade, 2 Tuen Lee St...</td>\n",
       "      <td>22.390776</td>\n",
       "      <td>113.975983</td>\n",
       "    </tr>\n",
       "    <tr>\n",
       "      <th>3</th>\n",
       "      <td>Broadway Circuit - CYBERPORT</td>\n",
       "      <td>百老匯戲院 - 數碼港</td>\n",
       "      <td>Shop L1 - 3, Level 1, The Arcade, 100 Cyberpor...</td>\n",
       "      <td>22.261067</td>\n",
       "      <td>114.129825</td>\n",
       "    </tr>\n",
       "    <tr>\n",
       "      <th>4</th>\n",
       "      <td>Cinema City VICTORIA (Causeway Bay)</td>\n",
       "      <td>Cinema City VICTORIA (銅鑼灣)</td>\n",
       "      <td>2-8 Sugar Street, Causeway Bay, Hong Kong</td>\n",
       "      <td>22.279805</td>\n",
       "      <td>114.187126</td>\n",
       "    </tr>\n",
       "  </tbody>\n",
       "</table>\n",
       "</div>"
      ],
      "text/plain": [
       "                                                Name  \\\n",
       "0           Emperor Cinemas - Entertainment Building   \n",
       "1  The Coronet @ Emperor Cinemas - Entertainment ...   \n",
       "2                         Emperor Cinemas - Tuen Mun   \n",
       "3                       Broadway Circuit - CYBERPORT   \n",
       "4                Cinema City VICTORIA (Causeway Bay)   \n",
       "\n",
       "                      ChiName  \\\n",
       "0                  英皇戲院 - 娛樂行   \n",
       "1    The Coronet @ 英皇戲院 - 娛樂行   \n",
       "2               英皇戲院 - 屯門新都商場   \n",
       "3                 百老匯戲院 - 數碼港   \n",
       "4  Cinema City VICTORIA (銅鑼灣)   \n",
       "\n",
       "                                             Address   Latitude   Longitude  \n",
       "0  3/F, Emperor Cinemas Entertainment Building, 3...  22.281453  114.154230  \n",
       "1  3/F, Emperor Cinemas Entertainment Building, 3...  22.281453  114.154230  \n",
       "2  3/F, New Town Commercial Arcade, 2 Tuen Lee St...  22.390776  113.975983  \n",
       "3  Shop L1 - 3, Level 1, The Arcade, 100 Cyberpor...  22.261067  114.129825  \n",
       "4          2-8 Sugar Street, Causeway Bay, Hong Kong  22.279805  114.187126  "
      ]
     },
     "execution_count": 182,
     "metadata": {},
     "output_type": "execute_result"
    }
   ],
   "source": [
    "df_cinemas.head()"
   ]
  },
  {
   "cell_type": "code",
   "execution_count": null,
   "metadata": {},
   "outputs": [],
   "source": [
    "possible_locations = [\n",
    "    { 'Location': 'L1', 'Address': 'Sau Mau Ping Shopping Centre, Sau Mau Ping'},\n",
    "    { 'Location': 'L2', 'Address': 'Tuen Mun Ferry, Tuen Mun'},\n",
    "    { 'Location': 'L3', 'Address': 'Un Chau Shopping Centre, Cheung Sha Wan'},\n",
    "    { 'Location': 'L4', 'Address': 'Prosperity Millennia Plaza, North Point'},\n",
    "    { 'Location': 'L5', 'Address': 'Tsuen Fung Centre Shopping Arcade, Tsuen Wan'},\n",
    "]\n"
   ]
  },
  {
   "cell_type": "code",
   "execution_count": null,
   "metadata": {},
   "outputs": [],
   "source": [
    "!pip3 install -U googlemaps"
   ]
  },
  {
   "cell_type": "code",
   "execution_count": null,
   "metadata": {},
   "outputs": [],
   "source": [
    "!ls "
   ]
  },
  {
   "cell_type": "code",
   "execution_count": null,
   "metadata": {},
   "outputs": [],
   "source": [
    "google_act = None\n",
    "with open('google.json', 'r') as f:\n",
    "    google_act = json.load(f)\n",
    "    \n",
    "GOOGLE_MAP_API_KEY = google_act['key'] "
   ]
  },
  {
   "cell_type": "code",
   "execution_count": null,
   "metadata": {},
   "outputs": [],
   "source": [
    "import googlemaps\n",
    "gmaps = googlemaps.Client(key=GOOGLE_MAP_API_KEY)"
   ]
  },
  {
   "cell_type": "code",
   "execution_count": null,
   "metadata": {},
   "outputs": [],
   "source": [
    "def getLatLng(address):\n",
    "    latlnt = gmaps.geocode('{}, Hong Kong'.format(address))\n",
    "    return (latlnt[0]['geometry']['location']['lat'], latlnt[0]['geometry']['location']['lng'])"
   ]
  },
  {
   "cell_type": "code",
   "execution_count": null,
   "metadata": {},
   "outputs": [],
   "source": [
    "for loc in possible_locations:        \n",
    "    (lat, lng) = getLatLng(loc['Address'])\n",
    "    loc['Latitude'] = lat\n",
    "    loc['Longitude'] = lng\n",
    "    \n",
    "df_possible_locations = pd.DataFrame(possible_locations, columns=['Location', 'Address', 'Latitude', 'Longitude'])\n",
    "df_possible_locations"
   ]
  },
  {
   "cell_type": "code",
   "execution_count": null,
   "metadata": {},
   "outputs": [],
   "source": [
    "jefe_tops = [\n",
    "    {'Name': 'Broadway Circuit - MONGKOK', 'Rating': 4.5},\n",
    "    {'Name': 'Broadway Circuit - The ONE', 'Rating': 4.5},\n",
    "    {'Name': 'Grand Ocean', 'Rating': 4.3},\n",
    "    {'Name': 'The Grand Cinema', 'Rating': 3.4},\n",
    "    {'Name': 'AMC Pacific Place', 'Rating': 2.3},\n",
    "    {'Name': 'UA IMAX @ Airport', 'Rating': 1.5},\n",
    "]\n",
    "\n",
    "df_jefe_tops = pd.DataFrame(jefe_tops, columns=['Name','Rating'])\n",
    "df_jefe_tops"
   ]
  },
  {
   "cell_type": "markdown",
   "metadata": {},
   "source": [
    "## Food and other factors to consider\n",
    "\n",
    "Ideally there are nearby shops, maybe bars, eaterys etc.\n",
    "\n"
   ]
  },
  {
   "cell_type": "code",
   "execution_count": null,
   "metadata": {},
   "outputs": [],
   "source": [
    "fs_categories = {\n",
    "    'Food': '4d4b7105d754a06374d81259',\n",
    "    'Shop & Service': '4d4b7105d754a06378d81259',\n",
    "    'Bus Stop': '52f2ab2ebcbc57f1066b8b4f',\n",
    "    'Metro Station': '4bf58dd8d48988d1fd931735',\n",
    "    'Nightlife Spot': '4d4b7105d754a06376d81259',\n",
    "    'Arts & Entertainment': '4d4b7104d754a06370d81259',\n",
    "    'Comedy Club': '4bf58dd8d48988d18e941735',\n",
    "    'Arcade': '4bf58dd8d48988d1e1931735',\n",
    "    'Go Kart Track': '52e81612bcbc57f1066b79ea'\n",
    "}"
   ]
  },
  {
   "cell_type": "code",
   "execution_count": null,
   "metadata": {},
   "outputs": [],
   "source": [
    "', '.join([ cat for cat in fs_categories])"
   ]
  },
  {
   "cell_type": "code",
   "execution_count": null,
   "metadata": {},
   "outputs": [],
   "source": [
    "cinema = df_cinemas.loc[0]"
   ]
  },
  {
   "cell_type": "code",
   "execution_count": null,
   "metadata": {},
   "outputs": [],
   "source": [
    "print('This is how to explore nearby places: \"{}\" for example is the closest place'.format(cinema['Name']))"
   ]
  },
  {
   "cell_type": "code",
   "execution_count": null,
   "metadata": {},
   "outputs": [],
   "source": [
    "!pip3 install foursquare"
   ]
  },
  {
   "cell_type": "code",
   "execution_count": null,
   "metadata": {},
   "outputs": [],
   "source": [
    "import foursquare as fs"
   ]
  },
  {
   "cell_type": "code",
   "execution_count": null,
   "metadata": {},
   "outputs": [],
   "source": []
  },
  {
   "cell_type": "code",
   "execution_count": null,
   "metadata": {},
   "outputs": [],
   "source": [
    "User = None\n",
    "with open('foursquare.json', 'r') as four:\n",
    "    User = json.load(four)\n",
    "clientid = User['id'] \n",
    "clientsecret = User['secret']"
   ]
  },
  {
   "cell_type": "code",
   "execution_count": null,
   "metadata": {},
   "outputs": [],
   "source": [
    "client = fs.Foursquare(client_id=clientid, client_secret=clientsecret)"
   ]
  },
  {
   "cell_type": "code",
   "execution_count": null,
   "metadata": {},
   "outputs": [],
   "source": [
    "from pandas.io.json import json_normalize\n",
    "\n",
    "RADIUS = 800\n"
   ]
  },
  {
   "cell_type": "code",
   "execution_count": null,
   "metadata": {},
   "outputs": [],
   "source": [
    "\n",
    "# Define a function to search nearby information and convert the result as dataframe\n",
    "def venues_nearby(latitude, longitude, category, verbose=True):    \n",
    "    results = fs.venues.search(\n",
    "        params = {\n",
    "            'query': category, \n",
    "            'll': '{},{}'.format(latitude, longitude),\n",
    "            'radius': RADIUS,\n",
    "            'categoryId': fs_categories[category]\n",
    "        }\n",
    "    )    \n",
    "    df = json_normalize(results['venues'])\n",
    "    cols = ['Name','Latitude','Longitude','Tips','Users','Visits']    \n",
    "    if( len(df) == 0 ):        \n",
    "        df = pd.DataFrame(columns=cols)\n",
    "    else:        \n",
    "        df = df[['name','location.lat','location.lng','stats.tipCount','stats.usersCount','stats.visitsCount']]\n",
    "        df.columns = cols\n",
    "    if( verbose ):\n",
    "        print('{} \"{}\" venues are found within {}m of location'.format(len(df), category, RADIUS))\n",
    "    return df\n",
    "\n",
    "    venues_nearby(cinemas['Latitude'], cinemas['Longitude'], 'Food').head()"
   ]
  },
  {
   "cell_type": "markdown",
   "metadata": {},
   "source": [
    "# Methedology\n",
    "\n",
    "\n",
    "\n",
    "Methodology section which represents the main component of the report where you discuss and describe any exploratory data analysis that you did, any inferential statistical testing that you performed, and what machine learnings were used and why.\n",
    "\n",
    "Using the data above, the **content-based recommendation** technique was used in the solution.\n",
    "\n",
    "1. Combined with the FourSquare API which provides insight data as to best build a new cinema.\n",
    "\n",
    "2. Create a matrix which captures the characteristic of venues nearby a prospecive cinema. \n",
    "\n",
    "3. Stakeholder's favorite list is the variable to combine with the matrix in order to properly create weighted matrix of favorite cinemas.\n",
    "\n",
    "4. Using the weighted matrix, a currated list of prospective cinemas can be provided to the stakeholder, allowing a single best choice to be provided.\n",
    "\n",
    "5. Before building the matrix,  data preparation and data analysis must be conducted."
   ]
  },
  {
   "cell_type": "code",
   "execution_count": null,
   "metadata": {},
   "outputs": [],
   "source": [
    "duplicated = df_cinemas.duplicated('Address')\n",
    "df_cinemas[duplicated].sort_values('Address')\n",
    "\n",
    "\n"
   ]
  },
  {
   "cell_type": "code",
   "execution_count": null,
   "metadata": {},
   "outputs": [],
   "source": [
    "# The Grand SC Starsuite -> The Grand Cinema\n",
    "df_cinemas.loc[29, 'Name'] = 'The Grand Cinema'\n",
    "\n",
    "# XXX @ UA MegaBox -> UA MegaBox\n",
    "df_cinemas.loc[44, 'Name'] = 'UA MegaBox'\n",
    "df_cinemas.loc[45, 'Name'] = 'UA MegaBox'\n",
    "\n",
    "# BEA IMAX @ UA Cine Moko -> UA Cine Moko\n",
    "df_cinemas.loc[42, 'Name'] = 'UA Cine Moko'\n",
    "\n",
    "# XXX @ UA iSQUARE -> iSQUARE\n",
    "df_cinemas.loc[43, 'Name'] = 'UA iSQUARE'\n",
    "df_cinemas.loc[46, 'Name'] = 'UA iSQUARE'\n",
    "\n",
    "# Emperor Cinemas - Entertainment Building\n",
    "df_cinemas.loc[1, 'Name'] = 'Emperor Cinemas - Entertainment Building'\n",
    "\n",
    "# Cinema City VICTORIA (Causeway Bay)\n",
    "df_cinemas.loc[6, 'Name'] = 'Cinema City VICTORIA (Causeway Bay)'"
   ]
  },
  {
   "cell_type": "code",
   "execution_count": null,
   "metadata": {},
   "outputs": [],
   "source": [
    "df_cinemas[duplicated]"
   ]
  },
  {
   "cell_type": "code",
   "execution_count": null,
   "metadata": {},
   "outputs": [],
   "source": [
    "df_cinemas.drop_duplicates('Address', inplace=True, keep='first')"
   ]
  },
  {
   "cell_type": "code",
   "execution_count": null,
   "metadata": {},
   "outputs": [],
   "source": [
    "df_cinemas[df_cinemas.duplicated('Name')]"
   ]
  },
  {
   "cell_type": "code",
   "execution_count": null,
   "metadata": {},
   "outputs": [],
   "source": [
    "df_cinemas.head()"
   ]
  },
  {
   "cell_type": "code",
   "execution_count": null,
   "metadata": {},
   "outputs": [],
   "source": [
    "df_cinemas['ChiName'].to_frame()"
   ]
  },
  {
   "cell_type": "code",
   "execution_count": null,
   "metadata": {},
   "outputs": [],
   "source": [
    "df_cinemas.drop(index=[65,67], inplace=True)"
   ]
  },
  {
   "cell_type": "code",
   "execution_count": null,
   "metadata": {},
   "outputs": [],
   "source": [
    "df_cinemas.head()"
   ]
  },
  {
   "cell_type": "code",
   "execution_count": null,
   "metadata": {},
   "outputs": [],
   "source": [
    "df_cinemas.shape"
   ]
  },
  {
   "cell_type": "code",
   "execution_count": null,
   "metadata": {},
   "outputs": [],
   "source": [
    "from pathlib import Path"
   ]
  },
  {
   "cell_type": "code",
   "execution_count": null,
   "metadata": {},
   "outputs": [],
   "source": [
    "venues_csv = Path('./cinemas_venues.csv')\n",
    "df_venues = df_cinemas\n",
    "\n",
    "# check the venues data is explored and downloaded \n",
    "if( venues_csv.exists() ):\n",
    "    df_venues = pd.read_csv('./cinemas_venues.csv')\n",
    "else:    \n",
    "    # construct a dataframe to store data\n",
    "  #  df_venues = pd.DataFrame(columns=['Cinema Name', 'Name', 'Latitude', 'Longitude'])\n",
    "    for cat, cat_id in fs_categories.items():\n",
    "        df = venues_nearby(latitude, longitude, category, verbose=False)\n",
    "        df['Cinema Name'] = name\n",
    "        df['Category'] = cat\n",
    "        df_venues = df_venues.append(df, sort=True)"
   ]
  },
  {
   "cell_type": "code",
   "execution_count": null,
   "metadata": {},
   "outputs": [],
   "source": [
    "print('Total {} of venues are found'.format(len(df_venues)))"
   ]
  },
  {
   "cell_type": "code",
   "execution_count": null,
   "metadata": {},
   "outputs": [],
   "source": []
  }
 ],
 "metadata": {
  "kernelspec": {
   "display_name": "Python 3",
   "language": "python",
   "name": "python3"
  },
  "language_info": {
   "codemirror_mode": {
    "name": "ipython",
    "version": 3
   },
   "file_extension": ".py",
   "mimetype": "text/x-python",
   "name": "python",
   "nbconvert_exporter": "python",
   "pygments_lexer": "ipython3",
   "version": "3.7.2"
  }
 },
 "nbformat": 4,
 "nbformat_minor": 2
}
