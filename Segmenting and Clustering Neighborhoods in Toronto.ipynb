{
 "cells": [
  {
   "cell_type": "markdown",
   "metadata": {},
   "source": [
    "# Coursera Capstone | Segmenting and Clustering (Toronto)\n",
    "\n",
    "The first section imports our libraries and from there we scrape the wikipedia link to begin populating a pandas dataframe.\n",
    "\n"
   ]
  },
  {
   "cell_type": "code",
   "execution_count": null,
   "metadata": {},
   "outputs": [],
   "source": [
    "# Import Libs\n",
    "\n",
    "import pandas as pd\n",
    "import numpy as np\n",
    "from bs4 import BeautifulSoup\n",
    "import requests"
   ]
  },
  {
   "cell_type": "code",
   "execution_count": 31,
   "metadata": {},
   "outputs": [
    {
     "name": "stdout",
     "output_type": "stream",
     "text": [
      "# postal codes are 84\n"
     ]
    },
    {
     "data": {
      "text/html": [
       "<div>\n",
       "<style scoped>\n",
       "    .dataframe tbody tr th:only-of-type {\n",
       "        vertical-align: middle;\n",
       "    }\n",
       "\n",
       "    .dataframe tbody tr th {\n",
       "        vertical-align: top;\n",
       "    }\n",
       "\n",
       "    .dataframe thead th {\n",
       "        text-align: right;\n",
       "    }\n",
       "</style>\n",
       "<table border=\"1\" class=\"dataframe\">\n",
       "  <thead>\n",
       "    <tr style=\"text-align: right;\">\n",
       "      <th></th>\n",
       "      <th>Borough</th>\n",
       "      <th>Neighborhood</th>\n",
       "      <th>PostalCode</th>\n",
       "    </tr>\n",
       "  </thead>\n",
       "  <tbody>\n",
       "    <tr>\n",
       "      <th>0</th>\n",
       "      <td>West Toronto</td>\n",
       "      <td>High Park</td>\n",
       "      <td>M6P</td>\n",
       "    </tr>\n",
       "  </tbody>\n",
       "</table>\n",
       "</div>"
      ],
      "text/plain": [
       "        Borough Neighborhood PostalCode\n",
       "0  West Toronto    High Park        M6P"
      ]
     },
     "execution_count": 31,
     "metadata": {},
     "output_type": "execute_result"
    }
   ],
   "source": [
    "soup = BeautifulSoup(wikipedia_page,'xml')\n",
    "\n",
    "\n",
    "table = soup.find('table')\n",
    "\n",
    "PostalCode   = []\n",
    "Borough      = []\n",
    "Neighborhood = []\n",
    "\n",
    "\n",
    "# Scrape Wikipedia\n",
    "\n",
    "wikipedia_link='https://en.wikipedia.org/wiki/List_of_postal_codes_of_Canada:_M'\n",
    "wikipedia_page= requests.get(wikipedia_link).text\n",
    "\n",
    "\n",
    "# extracting a data form of the table\n",
    "for tr_cell in table.find_all('tr'):\n",
    "    \n",
    "    i = 1\n",
    "    PostalCode_var    = -1\n",
    "    Borough_var       = -1\n",
    "    Neighborhood_var  = -1\n",
    "    \n",
    "    for td_cell in tr_cell.find_all('td'):\n",
    "        if i == 1: \n",
    "            PostalCode_var = td_cell.text\n",
    "        if i == 2: \n",
    "            Borough_var = td_cell.text\n",
    "            tag_a_Borough = td_cell.find('a')\n",
    "            \n",
    "        if i == 3: \n",
    "            Neighborhood_var = str(td_cell.text).strip()\n",
    "            tag_a_Neighborhood = td_cell.find('a')\n",
    "            \n",
    "        i= i+ 1\n",
    "        \n",
    "    if (PostalCode_var == 'Not assigned' or Borough_var == 'Not assigned' or Neighborhood_var == 'Not assigned'): \n",
    "        continue\n",
    "    try:\n",
    "        if ((tag_a_Borough is None) or (tag_a_Neighborhood is None)):\n",
    "            continue\n",
    "    except:\n",
    "        pass\n",
    "    if(PostalCode_var == -1 or Borough_var == -1 or Neighborhood_var == -1):\n",
    "        continue\n",
    "        \n",
    "    PostalCode.append(PostalCode_var)\n",
    "    Borough.append(Borough_var)\n",
    "    Neighborhood.append(Neighborhood_var)\n",
    "    \n",
    "\n",
    "    \n",
    "unique_p = set(PostalCode)\n",
    "print('# postal codes are', len(unique_p))\n",
    "PostalCode_u      = []\n",
    "Borough_u         = []\n",
    "Neighborhood_u    = []\n",
    "\n",
    "\n",
    "\n",
    "for postalcode_unique_element in unique_p:\n",
    "        p_var = ''; b_var = ''; n_var = ''; \n",
    "        for postalcode_idx, postalcode_element in enumerate(PostalCode):\n",
    "            if postalcode_unique_element == postalcode_element:\n",
    "                p_var = postalcode_element;\n",
    "                b_var = Borough[postalcode_idx]\n",
    "                if n_var == '': \n",
    "                    n_var = Neighborhood[postalcode_idx]\n",
    "                else:\n",
    "                    n_var = n_var + ', ' + Neighborhood[postalcode_idx]\n",
    "\n",
    "PostalCode_u.append(p_var)\n",
    "Borough_u.append(b_var)\n",
    "Neighborhood_u.append(n_var)\n",
    "    \n",
    "toronto_dict = {'Borough':Borough_u, 'Neighborhood':Neighborhood_u, 'PostalCode':PostalCode_u}\n",
    "df_toronto = pd.DataFrame(toronto_dict)\n",
    "df_toronto\n",
    "\n",
    "\n"
   ]
  },
  {
   "cell_type": "code",
   "execution_count": null,
   "metadata": {},
   "outputs": [],
   "source": []
  },
  {
   "cell_type": "code",
   "execution_count": null,
   "metadata": {},
   "outputs": [],
   "source": []
  }
 ],
 "metadata": {
  "kernelspec": {
   "display_name": "Python 3",
   "language": "python",
   "name": "python3"
  },
  "language_info": {
   "codemirror_mode": {
    "name": "ipython",
    "version": 3
   },
   "file_extension": ".py",
   "mimetype": "text/x-python",
   "name": "python",
   "nbconvert_exporter": "python",
   "pygments_lexer": "ipython3",
   "version": "3.7.2"
  }
 },
 "nbformat": 4,
 "nbformat_minor": 2
}
